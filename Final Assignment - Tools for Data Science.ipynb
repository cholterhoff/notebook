{
    "cells": [
        {
            "cell_type": "markdown",
            "metadata": {
                "collapsed": true
            },
            "source": "# My Jupyter Notebook on IBM Watson Studio"
        },
        {
            "cell_type": "markdown",
            "metadata": {},
            "source": "**Christina Holterhoff**  \nPKI Operations"
        },
        {
            "cell_type": "markdown",
            "metadata": {},
            "source": "*I am interested in data science because I have always enjoyed playing with data. I like to explore different ways of looking at at the same data and present results in visually attractive ways.*"
        },
        {
            "cell_type": "markdown",
            "metadata": {},
            "source": "### My code below multiplies a number (here x=5) with itself."
        },
        {
            "cell_type": "code",
            "execution_count": 3,
            "metadata": {},
            "outputs": [
                {
                    "name": "stdout",
                    "output_type": "stream",
                    "text": "25\n"
                }
            ],
            "source": "x = 5\ny = x*x\nprint(y)"
        },
        {
            "cell_type": "markdown",
            "metadata": {},
            "source": ">this cell must include at least 3 of the following: \n>rule, bulleted list, numbered list, tables, hyperlinks, images, code/syntax highlighting, blocked quotes, strikethrough.\n\n\nHere is a bulleted list:\n\n* First\n* Second\n* Third\n\n---\n\nHere is ~bulleted~ numbered list:\n\n1. First\n2. Second\n3. Third\n\n---\n\nHere is a table:\n\n|Column 1|Column 2|Column 3|\n|--------|--------|--------|\n|Item 1-1|Item 1-2|Item 1-3|\n|Item 2-1|Item 2-2|Item 2-3|\n|Item 3-1|Item 3-2|Item 3-3|\n\n\n\n\n"
        },
        {
            "cell_type": "code",
            "execution_count": null,
            "metadata": {},
            "outputs": [],
            "source": ""
        }
    ],
    "metadata": {
        "kernelspec": {
            "display_name": "Python 3.7",
            "language": "python",
            "name": "python3"
        },
        "language_info": {
            "codemirror_mode": {
                "name": "ipython",
                "version": 3
            },
            "file_extension": ".py",
            "mimetype": "text/x-python",
            "name": "python",
            "nbconvert_exporter": "python",
            "pygments_lexer": "ipython3",
            "version": "3.7.10"
        }
    },
    "nbformat": 4,
    "nbformat_minor": 1
}